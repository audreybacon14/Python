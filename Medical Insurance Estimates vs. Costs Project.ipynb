{
 "cells": [
  {
   "cell_type": "code",
   "execution_count": 5,
   "id": "82a2d834",
   "metadata": {},
   "outputs": [],
   "source": [
    "names = [\"Judith\", \"Abel\", \"Tyson\", \"Martha\", \"Beverley\", \"David\", \"Anabel\"]\n",
    "estimated_insurance_costs = [1000.0, 2000.0, 3000.0, 4000.0, 5000.0, 6000.0, 7000.0]\n",
    "actual_insurance_costs = [1100.0, 2200.0, 3300.0, 4400.0, 5500.0, 6600.0, 7700.0]"
   ]
  },
  {
   "cell_type": "code",
   "execution_count": 6,
   "id": "0eb98a0b",
   "metadata": {},
   "outputs": [],
   "source": [
    "total_cost = 0\n",
    "for cost in actual_insurance_costs:\n",
    "    total_cost += cost\n",
    "    \n",
    "    "
   ]
  },
  {
   "cell_type": "code",
   "execution_count": 8,
   "id": "7de0b1f8",
   "metadata": {},
   "outputs": [
    {
     "name": "stdout",
     "output_type": "stream",
     "text": [
      "Average Insurance Cost: 4400.0$\n"
     ]
    }
   ],
   "source": [
    "average_costs = total_cost / len(actual_insurance_costs)\n",
    "print(\"Average Insurance Cost: \" + str(average_costs) + \"$\")\n"
   ]
  },
  {
   "cell_type": "code",
   "execution_count": 13,
   "id": "3d81029b",
   "metadata": {},
   "outputs": [
    {
     "name": "stdout",
     "output_type": "stream",
     "text": [
      "The insurance cost for Judith is 1100.0 dollars\n",
      "The insurance cost for Judith is below average.\n",
      "The insurance cost for Abel is 2200.0 dollars\n",
      "The insurance cost for Abel is below average.\n",
      "The insurance cost for Tyson is 3300.0 dollars\n",
      "The insurance cost for Tyson is below average.\n",
      "The insurance cost for Martha is 4400.0 dollars\n",
      "The insurance cost for Martha is equal to the average.\n",
      "The insurance cost for Beverley is 5500.0 dollars\n",
      "The insurance cost for Beverley is above average.\n",
      "The insurance cost for David is 6600.0 dollars\n",
      "The insurance cost for David is above average.\n",
      "The insurance cost for Anabel is 7700.0 dollars\n",
      "The insurance cost for Anabel is above average.\n"
     ]
    }
   ],
   "source": [
    "#For loop to determine whether individual insurance cost is above or below average.\n",
    "for i in range(len(names)):\n",
    "    name = names[i]\n",
    "    insurance_cost = actual_insurance_costs[i] \n",
    "    print(\"The insurance cost for \" + str(name) + \" is \" + str(insurance_cost) + \" dollars\")\n",
    "    if insurance_cost > average_costs:\n",
    "        print(\"The insurance cost for \" + str(name) + \" is above average.\")\n",
    "    elif insurance_cost < average_costs:\n",
    "        print(\"The insurance cost for \" + str(name) + \" is below average.\")\n",
    "    else:\n",
    "        print(\"The insurance cost for \" + str(name) + \" is equal to the average.\")\n",
    "        \n",
    "    \n",
    "\n",
    "    \n",
    "    "
   ]
  },
  {
   "cell_type": "code",
   "execution_count": 16,
   "id": "32dbb178",
   "metadata": {},
   "outputs": [
    {
     "name": "stdout",
     "output_type": "stream",
     "text": [
      "[1100.0, 2200.0, 3300.0, 4400.0, 5500.0, 6600.0, 7700.0]\n"
     ]
    }
   ],
   "source": [
    "updated_estimated_costs = [cost * 11/10 for cost in estimated_insurance_costs]\n",
    "print(updated_estimated_costs)\n"
   ]
  }
 ],
 "metadata": {
  "kernelspec": {
   "display_name": "Python 3 (ipykernel)",
   "language": "python",
   "name": "python3"
  },
  "language_info": {
   "codemirror_mode": {
    "name": "ipython",
    "version": 3
   },
   "file_extension": ".py",
   "mimetype": "text/x-python",
   "name": "python",
   "nbconvert_exporter": "python",
   "pygments_lexer": "ipython3",
   "version": "3.11.5"
  }
 },
 "nbformat": 4,
 "nbformat_minor": 5
}
