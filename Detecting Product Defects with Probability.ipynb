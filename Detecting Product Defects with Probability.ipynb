{
 "cells": [
  {
   "cell_type": "code",
   "execution_count": 2,
   "id": "ccea76f4",
   "metadata": {},
   "outputs": [
    {
     "name": "stdout",
     "output_type": "stream",
     "text": [
      "0.14900277967433773\n"
     ]
    }
   ],
   "source": [
    "import scipy.stats as stats\n",
    "import numpy as np\n",
    "lam = 7\n",
    "print(stats.poisson.pmf(lam, lam))\n"
   ]
  },
  {
   "cell_type": "code",
   "execution_count": 3,
   "id": "349587eb",
   "metadata": {},
   "outputs": [
    {
     "data": {
      "text/plain": [
       "0.17299160788207146"
      ]
     },
     "execution_count": 3,
     "metadata": {},
     "output_type": "execute_result"
    }
   ],
   "source": [
    "#Calculate the probability of having 4 or fewer defects on a given day\n",
    "stats.poisson.cdf(4, lam)"
   ]
  },
  {
   "cell_type": "code",
   "execution_count": 5,
   "id": "c06e374f",
   "metadata": {
    "scrolled": true
   },
   "outputs": [
    {
     "data": {
      "text/plain": [
       "0.16950406276132668"
      ]
     },
     "execution_count": 5,
     "metadata": {},
     "output_type": "execute_result"
    }
   ],
   "source": [
    "#Calculate the probability of having 9 or more defects\n",
    "1 - stats.poisson.cdf(9, lam)\n"
   ]
  },
  {
   "cell_type": "code",
   "execution_count": 9,
   "id": "7ebe319d",
   "metadata": {},
   "outputs": [
    {
     "name": "stdout",
     "output_type": "stream",
     "text": [
      "[10  8  2  9  6 13  5  8  8  4  9  9  4 10  5  7  9  3  9  8]\n"
     ]
    }
   ],
   "source": [
    "#Create a variable year_defects that has 365 random values from the Poisson distribution\n",
    "year_defects = stats.poisson.rvs(lam, size = 365)\n",
    "\n",
    "#Print 20 values in the data set\n",
    "print(year_defects[0:20])\n",
    "\n"
   ]
  },
  {
   "cell_type": "code",
   "execution_count": 12,
   "id": "95834988",
   "metadata": {},
   "outputs": [
    {
     "name": "stdout",
     "output_type": "stream",
     "text": [
      "2555\n"
     ]
    }
   ],
   "source": [
    "# If we expect 7 defects on a given day, what is the total number of defects we would expect over 365 days\n",
    "print(lam*365)"
   ]
  },
  {
   "cell_type": "code",
   "execution_count": 13,
   "id": "96ef67d8",
   "metadata": {},
   "outputs": [
    {
     "name": "stdout",
     "output_type": "stream",
     "text": [
      "2551\n"
     ]
    }
   ],
   "source": [
    "# Print the total sum of the data set year_defects\n",
    "print(sum(year_defects))\n"
   ]
  },
  {
   "cell_type": "code",
   "execution_count": 14,
   "id": "e25ff87c",
   "metadata": {},
   "outputs": [
    {
     "name": "stdout",
     "output_type": "stream",
     "text": [
      "6.989041095890411\n"
     ]
    }
   ],
   "source": [
    "# Calculate the average number of defects per day. How does this compate to the expected average number of defects each day that we know from the given rate parameter of the Poisson distribution\n",
    "print(np.mean(year_defects))\n"
   ]
  },
  {
   "cell_type": "code",
   "execution_count": 15,
   "id": "dc67fc67",
   "metadata": {
    "scrolled": true
   },
   "outputs": [
    {
     "name": "stdout",
     "output_type": "stream",
     "text": [
      "15\n"
     ]
    }
   ],
   "source": [
    "# Calculate the highest amount of defects in a single day \n",
    "print(year_defects.max())\n"
   ]
  },
  {
   "cell_type": "code",
   "execution_count": 18,
   "id": "dd28a4d6",
   "metadata": {},
   "outputs": [
    {
     "name": "stdout",
     "output_type": "stream",
     "text": [
      "0.0024065803473980463\n"
     ]
    }
   ],
   "source": [
    "# Calculate the probability of observing that maximum value or more from the Poisson(7) distribution\n",
    "print(1 - stats.poisson.cdf(year_defects.max(), lam))"
   ]
  },
  {
   "cell_type": "code",
   "execution_count": 19,
   "id": "48c46e52",
   "metadata": {
    "scrolled": true
   },
   "outputs": [
    {
     "name": "stdout",
     "output_type": "stream",
     "text": [
      "10.0\n"
     ]
    }
   ],
   "source": [
    "# Calculate how many defects in a given day would put us in the 90th percentile of the Poisson(7) distribution\n",
    "print(stats.poisson.ppf(0.9, lam))\n"
   ]
  },
  {
   "cell_type": "code",
   "execution_count": 20,
   "id": "2439ec0c",
   "metadata": {},
   "outputs": [
    {
     "name": "stdout",
     "output_type": "stream",
     "text": [
      "0.0958904109589041\n"
     ]
    }
   ],
   "source": [
    "# Proportion of simulated dataset year_defects is greater than or equal to the number we calculated\n",
    "print(sum(year_defects > stats.poisson.ppf(0.9,lam))/len(year_defects))"
   ]
  }
 ],
 "metadata": {
  "kernelspec": {
   "display_name": "Python 3 (ipykernel)",
   "language": "python",
   "name": "python3"
  },
  "language_info": {
   "codemirror_mode": {
    "name": "ipython",
    "version": 3
   },
   "file_extension": ".py",
   "mimetype": "text/x-python",
   "name": "python",
   "nbconvert_exporter": "python",
   "pygments_lexer": "ipython3",
   "version": "3.11.5"
  }
 },
 "nbformat": 4,
 "nbformat_minor": 5
}
