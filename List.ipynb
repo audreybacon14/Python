{
 "cells": [
  {
   "cell_type": "code",
   "execution_count": 8,
   "id": "f3cf02a6",
   "metadata": {},
   "outputs": [],
   "source": [
    "#names list stores the names of ten individuals\n",
    "#insurance_costs list stores their medical insurance costs\n",
    "names = [\"Mohamed\", \"Sara\", \"Xia\", \"Paul\", \"Valentina\", \"Jide\", \"Aaron\", \"Emily\", \"Nikita\", \"Paul\"]\n",
    "insurance_costs = [13262.0, 4816.0, 6839.0, 5054.0, 14724.0, 5360.0, 7640.0, 6072.0, 2750.0, 12064.0]\n"
   ]
  },
  {
   "cell_type": "code",
   "execution_count": 14,
   "id": "03a86f29",
   "metadata": {},
   "outputs": [
    {
     "name": "stdout",
     "output_type": "stream",
     "text": [
      "[(13262.0, 'Mohamed'), (4816.0, 'Sara'), (6839.0, 'Xia'), (5054.0, 'Paul'), (14724.0, 'Valentina'), (5360.0, 'Jide'), (7640.0, 'Aaron'), (6072.0, 'Emily'), (2750.0, 'Nikita'), (12064.0, 'Paul')]\n"
     ]
    }
   ],
   "source": [
    "#combines insurance_costs and names into a list\n",
    "medical_records = list(zip(insurance_costs, names))\n",
    "print(medical_records)"
   ]
  },
  {
   "cell_type": "code",
   "execution_count": 15,
   "id": "f1832058",
   "metadata": {},
   "outputs": [
    {
     "name": "stdout",
     "output_type": "stream",
     "text": [
      "10\n"
     ]
    }
   ],
   "source": [
    "#length of the medical_records\n",
    "num_medical_records = len(medical_records)\n",
    "print(num_medical_records)"
   ]
  },
  {
   "cell_type": "code",
   "execution_count": 17,
   "id": "0c4f4c65",
   "metadata": {},
   "outputs": [
    {
     "name": "stdout",
     "output_type": "stream",
     "text": [
      "There are 10 medical records.\n"
     ]
    }
   ],
   "source": [
    "print(\"There are \" + str(num_medical_records) + \" medical records.\")\n",
    "\n"
   ]
  },
  {
   "cell_type": "code",
   "execution_count": 20,
   "id": "61afe68f",
   "metadata": {},
   "outputs": [
    {
     "name": "stdout",
     "output_type": "stream",
     "text": [
      "Here is the first medical record: (13262.0, 'Mohamed')\n"
     ]
    }
   ],
   "source": [
    "#stores the first_medical_record\n",
    "first_medical_record = medical_records[0]\n",
    "print(\"Here is the first medical record: \" + str(first_medical_record\n",
    "))"
   ]
  },
  {
   "cell_type": "code",
   "execution_count": 21,
   "id": "9b868b78",
   "metadata": {},
   "outputs": [
    {
     "name": "stdout",
     "output_type": "stream",
     "text": [
      "Here are the medical records sorted by insurance cost: [(2750.0, 'Nikita'), (4816.0, 'Sara'), (5054.0, 'Paul'), (5360.0, 'Jide'), (6072.0, 'Emily'), (6839.0, 'Xia'), (7640.0, 'Aaron'), (12064.0, 'Paul'), (13262.0, 'Mohamed'), (14724.0, 'Valentina')]\n"
     ]
    }
   ],
   "source": [
    "#sorts medical_records from the lowest insurance costs to the highest\n",
    "medical_records.sort()\n",
    "print(\"Here are the medical records sorted by insurance cost: \" +str(medical_records))"
   ]
  },
  {
   "cell_type": "code",
   "execution_count": 26,
   "id": "8b9de2a7",
   "metadata": {},
   "outputs": [
    {
     "name": "stdout",
     "output_type": "stream",
     "text": [
      "Here are the three cheapest insurance costs in our medical records: [(2750.0, 'Nikita'), (4816.0, 'Sara'), (5054.0, 'Paul')]\n"
     ]
    }
   ],
   "source": [
    "#Three cheapest insurance costs \n",
    "cheapest_three = medical_records[:3]\n",
    "print(\"Here are the three cheapest insurance costs in our medical records: \" + str(cheapest_three))\n",
    "      "
   ]
  },
  {
   "cell_type": "code",
   "execution_count": 27,
   "id": "57af1e82",
   "metadata": {},
   "outputs": [
    {
     "name": "stdout",
     "output_type": "stream",
     "text": [
      "Here are the three most expensive insurance costs in our medical records: [(12064.0, 'Paul'), (13262.0, 'Mohamed'), (14724.0, 'Valentina')]\n"
     ]
    }
   ],
   "source": [
    "#Top three priciest insurance costs\n",
    "priciest_three = medical_records[-3:]\n",
    "print(\"Here are the three most expensive insurance costs in our medical records: \" + str(priciest_three))\n"
   ]
  },
  {
   "cell_type": "code",
   "execution_count": 29,
   "id": "a5375f31",
   "metadata": {},
   "outputs": [
    {
     "name": "stdout",
     "output_type": "stream",
     "text": [
      "There are 2 individuals with the name Paul in our medical records.\n"
     ]
    }
   ],
   "source": [
    "# The number of occurrences of “Paul” in the names list\n",
    "occurances_paul = names.count(\"Paul\")\n",
    "print(\"There are \" + str(occurances_paul) + \" individuals with the name Paul in our medical records.\")"
   ]
  },
  {
   "cell_type": "code",
   "execution_count": null,
   "id": "66eb0ef7",
   "metadata": {},
   "outputs": [],
   "source": []
  }
 ],
 "metadata": {
  "kernelspec": {
   "display_name": "Python 3 (ipykernel)",
   "language": "python",
   "name": "python3"
  },
  "language_info": {
   "codemirror_mode": {
    "name": "ipython",
    "version": 3
   },
   "file_extension": ".py",
   "mimetype": "text/x-python",
   "name": "python",
   "nbconvert_exporter": "python",
   "pygments_lexer": "ipython3",
   "version": "3.11.5"
  }
 },
 "nbformat": 4,
 "nbformat_minor": 5
}
