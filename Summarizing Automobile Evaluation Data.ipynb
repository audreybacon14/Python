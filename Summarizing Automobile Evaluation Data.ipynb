{
 "cells": [
  {
   "cell_type": "code",
   "execution_count": 1,
   "id": "0d9ce8d0",
   "metadata": {},
   "outputs": [
    {
     "name": "stdout",
     "output_type": "stream",
     "text": [
      "  buying_cost maintenance_cost doors capacity luggage safety acceptability  \\\n",
      "0       vhigh              low     4        4   small    med         unacc   \n",
      "1       vhigh              med     3        4   small   high           acc   \n",
      "2         med             high     3        2     med   high         unacc   \n",
      "3         low              med     4     more     big    low         unacc   \n",
      "4         low             high     2     more     med   high           acc   \n",
      "\n",
      "  manufacturer_country  \n",
      "0                China  \n",
      "1               France  \n",
      "2        United States  \n",
      "3        United States  \n",
      "4          South Korea  \n",
      "0              China\n",
      "1             France\n",
      "2      United States\n",
      "3      United States\n",
      "4        South Korea\n",
      "           ...      \n",
      "995      South Korea\n",
      "996            Japan\n",
      "997            Japan\n",
      "998          Germany\n",
      "999           France\n",
      "Name: manufacturer_country, Length: 1000, dtype: object\n"
     ]
    }
   ],
   "source": [
    "import pandas as pd\n",
    "car_eval = pd.read_csv('car_eval_dataset.csv')\n",
    "print(car_eval.head())\n",
    "\n",
    "# 1. Create a table frequencies of all the cars reviewed by \"manufacturer_country\".\n",
    "# What is the modal category? Which country appears 4th most frequently?\n",
    "\n",
    "# Note: '.value_counts()' produces a table of frequencies in order, you can reference the\n",
    "# N-th row of this table to find the Nth most common value in the data. In this case, it's Japan and the US...\n",
    "\n",
    "print(car_eval.manufacturer_country)\n"
   ]
  },
  {
   "cell_type": "code",
   "execution_count": 2,
   "id": "6fbe0b15",
   "metadata": {},
   "outputs": [
    {
     "name": "stdout",
     "output_type": "stream",
     "text": [
      "manufacturer_country\n",
      "Japan            0.228\n",
      "Germany          0.218\n",
      "South Korea      0.159\n",
      "United States    0.138\n",
      "Italy            0.097\n",
      "France           0.087\n",
      "China            0.073\n",
      "Name: proportion, dtype: float64\n"
     ]
    }
   ],
   "source": [
    "# Calculate a table of proportions for countries that appear in \"manufacturer_country\" in the dataset.\n",
    "print(car_eval.manufacturer_country.value_counts(normalize=True))\n"
   ]
  },
  {
   "cell_type": "code",
   "execution_count": 3,
   "id": "baeb835c",
   "metadata": {},
   "outputs": [
    {
     "name": "stdout",
     "output_type": "stream",
     "text": [
      "['vhigh' 'med' 'low' 'high']\n"
     ]
    }
   ],
   "source": [
    "print(car_eval[\"buying_cost\"].unique())\n"
   ]
  },
  {
   "cell_type": "code",
   "execution_count": 4,
   "id": "e72c8625",
   "metadata": {},
   "outputs": [
    {
     "name": "stdout",
     "output_type": "stream",
     "text": [
      "['low', 'med', 'high', 'vhigh']\n"
     ]
    }
   ],
   "source": [
    "buying_cost_categories = ['low', 'med', 'high', 'vhigh']\n",
    "print(buying_cost_categories)\n"
   ]
  },
  {
   "cell_type": "code",
   "execution_count": 5,
   "id": "34f3f4fd",
   "metadata": {},
   "outputs": [
    {
     "name": "stdout",
     "output_type": "stream",
     "text": [
      "0      vhigh\n",
      "1      vhigh\n",
      "2        med\n",
      "3        low\n",
      "4        low\n",
      "       ...  \n",
      "995      low\n",
      "996      low\n",
      "997    vhigh\n",
      "998      low\n",
      "999      low\n",
      "Name: buying_cost, Length: 1000, dtype: category\n",
      "Categories (4, object): ['low' < 'med' < 'high' < 'vhigh']\n"
     ]
    }
   ],
   "source": [
    "car_eval[\"buying_cost\"] = pd.Categorical(\n",
    "    car_eval[\"buying_cost\"],\n",
    "    buying_cost_categories,\n",
    "    ordered = True\n",
    "\n",
    ")\n",
    "\n",
    "print(car_eval.buying_cost)\n"
   ]
  },
  {
   "cell_type": "code",
   "execution_count": 6,
   "id": "af287eb8",
   "metadata": {},
   "outputs": [
    {
     "name": "stdout",
     "output_type": "stream",
     "text": [
      "luggage\n",
      "small    0.339\n",
      "med      0.333\n",
      "big      0.328\n",
      "Name: proportion, dtype: float64\n"
     ]
    }
   ],
   "source": [
    "print(car_eval.luggage.value_counts(normalize=True))"
   ]
  },
  {
   "cell_type": "code",
   "execution_count": 7,
   "id": "1b601151",
   "metadata": {},
   "outputs": [
    {
     "name": "stdout",
     "output_type": "stream",
     "text": [
      "luggage\n",
      "small    0.339\n",
      "med      0.333\n",
      "big      0.328\n",
      "Name: proportion, dtype: float64\n"
     ]
    }
   ],
   "source": [
    "print(car_eval.luggage.value_counts(dropna=False, normalize=True))\n"
   ]
  },
  {
   "cell_type": "code",
   "execution_count": 8,
   "id": "457c97f4",
   "metadata": {},
   "outputs": [
    {
     "name": "stdout",
     "output_type": "stream",
     "text": [
      "luggage\n",
      "small    0.339\n",
      "med      0.333\n",
      "big      0.328\n",
      "Name: count, dtype: float64\n"
     ]
    },
    {
     "data": {
      "text/plain": [
       "luggage\n",
       "small    0.339\n",
       "med      0.333\n",
       "big      0.328\n",
       "Name: count, dtype: float64"
      ]
     },
     "execution_count": 8,
     "metadata": {},
     "output_type": "execute_result"
    }
   ],
   "source": [
    "print(car_eval.luggage.value_counts()/len(car_eval.luggage))\n",
    "car_eval.luggage.value_counts()/car_eval.luggage.count()\n"
   ]
  },
  {
   "cell_type": "code",
   "execution_count": 9,
   "id": "5abdd35a",
   "metadata": {},
   "outputs": [
    {
     "name": "stdout",
     "output_type": "stream",
     "text": [
      "246\n"
     ]
    }
   ],
   "source": [
    "frequency = (car_eval.doors == '5more').sum()\n",
    "print(frequency)\n"
   ]
  },
  {
   "cell_type": "code",
   "execution_count": 10,
   "id": "24530708",
   "metadata": {},
   "outputs": [
    {
     "name": "stdout",
     "output_type": "stream",
     "text": [
      "0.246\n"
     ]
    }
   ],
   "source": [
    "proportion = (car_eval.doors == '5more').mean()\n",
    "print(proportion)\n"
   ]
  }
 ],
 "metadata": {
  "kernelspec": {
   "display_name": "Python 3 (ipykernel)",
   "language": "python",
   "name": "python3"
  },
  "language_info": {
   "codemirror_mode": {
    "name": "ipython",
    "version": 3
   },
   "file_extension": ".py",
   "mimetype": "text/x-python",
   "name": "python",
   "nbconvert_exporter": "python",
   "pygments_lexer": "ipython3",
   "version": "3.11.5"
  }
 },
 "nbformat": 4,
 "nbformat_minor": 5
}
