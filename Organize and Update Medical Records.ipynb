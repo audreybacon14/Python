{
 "cells": [
  {
   "cell_type": "code",
   "execution_count": 6,
   "id": "3c455e8f",
   "metadata": {},
   "outputs": [],
   "source": [
    "#record of medical patients and their insurance costs\n",
    "medical_costs = {}"
   ]
  },
  {
   "cell_type": "code",
   "execution_count": 7,
   "id": "bd32e3cb",
   "metadata": {},
   "outputs": [],
   "source": [
    "medical_costs[\"Marina\"] = 6607.0\n",
    "medical_costs[\"Vinay\"] = 3225.0"
   ]
  },
  {
   "cell_type": "code",
   "execution_count": 8,
   "id": "07a3e623",
   "metadata": {},
   "outputs": [
    {
     "name": "stdout",
     "output_type": "stream",
     "text": [
      "{'Marina': 6607.0, 'Vinay': 3225.0, 'Connie': 8886.0, 'Isaac': 16444.0, 'Valentina': 6420.0}\n"
     ]
    }
   ],
   "source": [
    "medical_costs.update({\"Connie\":8886.0, \"Isaac\":16444.0, \"Valentina\":6420.0})\n",
    "print(medical_costs)\n"
   ]
  },
  {
   "cell_type": "code",
   "execution_count": 9,
   "id": "6c5e23e5",
   "metadata": {},
   "outputs": [
    {
     "name": "stdout",
     "output_type": "stream",
     "text": [
      "{'Marina': 6607.0, 'Vinay': 3325.0, 'Connie': 8886.0, 'Isaac': 16444.0, 'Valentina': 6420.0}\n"
     ]
    }
   ],
   "source": [
    "medical_costs[\"Vinay\"] = 3325.0\n",
    "print(medical_costs)\n"
   ]
  },
  {
   "cell_type": "code",
   "execution_count": 11,
   "id": "7b75bdfb",
   "metadata": {},
   "outputs": [],
   "source": [
    "total_cost = 0\n",
    "for cost in medical_costs.values():\n",
    "    total_cost += cost"
   ]
  },
  {
   "cell_type": "code",
   "execution_count": 12,
   "id": "3f8ccccc",
   "metadata": {},
   "outputs": [
    {
     "name": "stdout",
     "output_type": "stream",
     "text": [
      "Average Insurance Cost: 8336.4\n"
     ]
    }
   ],
   "source": [
    "average_cost = total_cost/len(medical_costs)\n",
    "print(\"Average Insurance Cost: \" + str(average_cost))\n"
   ]
  },
  {
   "cell_type": "code",
   "execution_count": 13,
   "id": "39a8cdde",
   "metadata": {},
   "outputs": [],
   "source": [
    "names = [\"Marina\", \"Vinay\", \"Connie\", \"Isaac\", \"Valentina\"]\n",
    "ages = [27, 24, 43, 35, 52]\n"
   ]
  },
  {
   "cell_type": "code",
   "execution_count": 15,
   "id": "dacfde88",
   "metadata": {},
   "outputs": [],
   "source": [
    "zipped_ages = zip(names, ages)\n"
   ]
  },
  {
   "cell_type": "code",
   "execution_count": 16,
   "id": "8b9b4cfe",
   "metadata": {},
   "outputs": [
    {
     "name": "stdout",
     "output_type": "stream",
     "text": [
      "{'Marina': 27, 'Vinay': 24, 'Connie': 43, 'Isaac': 35, 'Valentina': 52}\n"
     ]
    }
   ],
   "source": [
    "names_to_ages = {key:value for key, value in zipped_ages}\n",
    "print(names_to_ages)"
   ]
  },
  {
   "cell_type": "code",
   "execution_count": 17,
   "id": "c875971a",
   "metadata": {},
   "outputs": [
    {
     "name": "stdout",
     "output_type": "stream",
     "text": [
      "Marina's age is 27\n"
     ]
    }
   ],
   "source": [
    "marina_age = names_to_ages.get(\"Marina\", None)\n",
    "print(\"Marina's age is \" + str(marina_age))"
   ]
  },
  {
   "cell_type": "code",
   "execution_count": 18,
   "id": "c5025b2c",
   "metadata": {},
   "outputs": [],
   "source": [
    "medical_records = {}"
   ]
  },
  {
   "cell_type": "code",
   "execution_count": 20,
   "id": "af2f6566",
   "metadata": {
    "scrolled": true
   },
   "outputs": [
    {
     "name": "stdout",
     "output_type": "stream",
     "text": [
      "{'Marina': {'Age': 27, 'Sex': 'Female', 'BMI': 31.1, 'Children': 2, 'Smoker': 'Non-smoker', 'Insurance_cost': 6607.0}, 'Vinay': {'Age': 24, 'Sex': 'Male', 'BMI': 26.9, 'Children': 0, 'Smoker': 'Non-smoker', 'Insurance_cost': 3225.0}, 'Connie': {'Age': 43, 'Sex': 'Female', 'BMI': 25.3, 'Children': 3, 'Smoker': 'Non-smoker', 'Insurance_cost': 8886.0}, 'Isaac': {'Age': 35, 'Sex': 'Male', 'BMI': 20.6, 'Children': 4, 'Smoker': 'Smoker', 'Insurance_cost': 16444.0}, 'Valentina': {'Age': 52, 'Sex': 'Female', 'BMI': 18.7, 'Children': 1, 'Smoker': 'Non-smoker', 'Insurance_cost': 6420.0}}\n"
     ]
    }
   ],
   "source": [
    "# dictionary to represent a database of medical records that contains information such as a patient's name, age, sex, gender, BMI, number of children, smoker status, and insurance cost\n",
    "medical_records[\"Marina\"] = {\"Age\":27, \"Sex\":\"Female\", \"BMI\":31.1, \"Children\":2, \"Smoker\":\"Non-smoker\", \"Insurance_cost\":6607.0}\n",
    "medical_records[\"Vinay\"] = {\"Age\":24, \"Sex\":\"Male\", \"BMI\":26.9, \"Children\":0, \"Smoker\":\"Non-smoker\", \"Insurance_cost\":3225.0}\n",
    "medical_records[\"Connie\"] = {\"Age\":43, \"Sex\":\"Female\", \"BMI\":25.3, \"Children\":3, \"Smoker\": \"Non-smoker\", \"Insurance_cost\": 8886.0}\n",
    "medical_records[\"Isaac\"] = {\"Age\":35, \"Sex\":\"Male\", \"BMI\":20.6, \"Children\":4, \"Smoker\":\"Smoker\", \"Insurance_cost\":16444.0}\n",
    "medical_records[\"Valentina\"] = {\"Age\":52, \"Sex\":\"Female\", \"BMI\":18.7, \"Children\":1, \"Smoker\": \"Non-smoker\", \"Insurance_cost\":6420.0}\n",
    "print(medical_records)"
   ]
  },
  {
   "cell_type": "code",
   "execution_count": 22,
   "id": "dd8e9e06",
   "metadata": {},
   "outputs": [
    {
     "data": {
      "text/plain": [
       "20.6"
      ]
     },
     "execution_count": 22,
     "metadata": {},
     "output_type": "execute_result"
    }
   ],
   "source": [
    "medical_records[\"Isaac\"][\"BMI\"]"
   ]
  },
  {
   "cell_type": "code",
   "execution_count": 23,
   "id": "3d2bb10b",
   "metadata": {},
   "outputs": [
    {
     "name": "stdout",
     "output_type": "stream",
     "text": [
      "Connie's insurance cost is 8886.0 dollars\n"
     ]
    }
   ],
   "source": [
    "print(\"Connie's insurance cost is \" + str(medical_records[\"Connie\"][\"Insurance_cost\"]) + \" dollars\")"
   ]
  },
  {
   "cell_type": "code",
   "execution_count": 24,
   "id": "e2dc062b",
   "metadata": {},
   "outputs": [
    {
     "name": "stdout",
     "output_type": "stream",
     "text": [
      "{'Marina': {'Age': 27, 'Sex': 'Female', 'BMI': 31.1, 'Children': 2, 'Smoker': 'Non-smoker', 'Insurance_cost': 6607.0}, 'Connie': {'Age': 43, 'Sex': 'Female', 'BMI': 25.3, 'Children': 3, 'Smoker': 'Non-smoker', 'Insurance_cost': 8886.0}, 'Isaac': {'Age': 35, 'Sex': 'Male', 'BMI': 20.6, 'Children': 4, 'Smoker': 'Smoker', 'Insurance_cost': 16444.0}, 'Valentina': {'Age': 52, 'Sex': 'Female', 'BMI': 18.7, 'Children': 1, 'Smoker': 'Non-smoker', 'Insurance_cost': 6420.0}}\n"
     ]
    }
   ],
   "source": [
    "#remove Vinay from medical_records\n",
    "medical_records.pop(\"Vinay\")\n",
    "print(medical_records)"
   ]
  },
  {
   "cell_type": "code",
   "execution_count": 31,
   "id": "9c02960b",
   "metadata": {},
   "outputs": [
    {
     "name": "stdout",
     "output_type": "stream",
     "text": [
      "Marina is a 27 year old Female Non-smoker with a BMI of 31.1 and insurance cost of 6607.0\n",
      "Connie is a 43 year old Female Non-smoker with a BMI of 25.3 and insurance cost of 8886.0\n",
      "Isaac is a 35 year old Male Smoker with a BMI of 20.6 and insurance cost of 16444.0\n",
      "Valentina is a 52 year old Female Non-smoker with a BMI of 18.7 and insurance cost of 6420.0\n"
     ]
    }
   ],
   "source": [
    "for name, record in medical_records.items():\n",
    "    print(name + \" is a \" + str(record[\"Age\"]) +  \" year old \" + record[\"Sex\"] + \" \" + record[\"Smoker\"]  + \" with a BMI of \" + str(record[\"BMI\"]) +  \" and insurance cost of \" + str(record[\"Insurance_cost\"]))"
   ]
  }
 ],
 "metadata": {
  "kernelspec": {
   "display_name": "Python 3 (ipykernel)",
   "language": "python",
   "name": "python3"
  },
  "language_info": {
   "codemirror_mode": {
    "name": "ipython",
    "version": 3
   },
   "file_extension": ".py",
   "mimetype": "text/x-python",
   "name": "python",
   "nbconvert_exporter": "python",
   "pygments_lexer": "ipython3",
   "version": "3.11.5"
  }
 },
 "nbformat": 4,
 "nbformat_minor": 5
}
